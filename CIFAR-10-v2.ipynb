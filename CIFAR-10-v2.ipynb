{
 "metadata": {
  "kernelspec": {
   "display_name": "Python 2",
   "language": "python",
   "name": "python2"
  },
  "language_info": {
   "codemirror_mode": {
    "name": "ipython",
    "version": 2
   },
   "file_extension": ".py",
   "mimetype": "text/x-python",
   "name": "python",
   "nbconvert_exporter": "python",
   "pygments_lexer": "ipython2",
   "version": "2.7.12"
  },
  "name": "",
  "signature": "sha256:9e23489fd32811da8606a0c068b2ae5afe45d5b5c46df30068d49e899289f42b"
 },
 "nbformat": 3,
 "nbformat_minor": 0,
 "worksheets": [
  {
   "cells": [
    {
     "cell_type": "heading",
     "level": 1,
     "metadata": {},
     "source": [
      "Simple convolutional neural network for the CIFAR-10 data set"
     ]
    },
    {
     "cell_type": "markdown",
     "metadata": {},
     "source": [
      "# Prepare data for the convolutional neural network\n",
      "Import libraries for the convolutional neural network"
     ]
    },
    {
     "cell_type": "code",
     "collapsed": false,
     "input": [
      "import keras\n",
      "from keras.models import Sequential\n",
      "from keras.layers import Dense, Dropout, Flatten, Activation\n",
      "from keras.layers import Conv2D, MaxPooling2D\n",
      "from keras.optimizers import SGD\n",
      "from keras.preprocessing.image import ImageDataGenerator\n",
      "from keras import metrics"
     ],
     "language": "python",
     "metadata": {},
     "outputs": [
      {
       "output_type": "stream",
       "stream": "stderr",
       "text": [
        "Using TensorFlow backend.\n"
       ]
      }
     ],
     "prompt_number": 1
    },
    {
     "cell_type": "markdown",
     "metadata": {},
     "source": [
      "Import libraries for display, auxilary functions, and the extraction of the CIFAR-10 data"
     ]
    },
    {
     "cell_type": "code",
     "collapsed": true,
     "input": [
      "%matplotlib inline\n",
      "import matplotlib.pyplot as plt\n",
      "import numpy as np\n",
      "import cPickle\n",
      "import os"
     ],
     "language": "python",
     "metadata": {},
     "outputs": [],
     "prompt_number": 2
    },
    {
     "cell_type": "markdown",
     "metadata": {},
     "source": [
      "Function for the extraction of the CIFAR-10 data. The dictionary that is returned consists of:\n",
      "    - 'data':   10,000 x 3072 numpy array\n",
      "                Each row represents a picture with 3072 = 1024 x 3\n",
      "                correspond to the different color channels and 1024 is a\n",
      "                flattened 32 x 32 array\n",
      "    - 'labels': The 10,000 corresponding labels ranging between 0 .. 9"
     ]
    },
    {
     "cell_type": "code",
     "collapsed": true,
     "input": [
      "def unpickle(file):\n",
      "    with open(file, 'rb') as fo:\n",
      "        dict = cPickle.load(fo)\n",
      "    return dict"
     ],
     "language": "python",
     "metadata": {},
     "outputs": [],
     "prompt_number": 3
    },
    {
     "cell_type": "markdown",
     "metadata": {},
     "source": [
      "Store the training data and its labels and reshape the data such that it is compatible with the neural network"
     ]
    },
    {
     "cell_type": "code",
     "collapsed": true,
     "input": [
      "INPUTPATH = os.getcwd() + \"/CIFAR-10/\"\n",
      "train = unpickle(INPUTPATH + \"train\")\n",
      "\n",
      "x_train = train['data']\n",
      "y_train = np.array(train['labels'])\n",
      "\n",
      "x_train = np.reshape(x_train,(len(x_train),3,32,32))\n",
      "x_train = np.transpose(x_train,(0,3,1,2))\n",
      "x_train = np.transpose(x_train,(0,1,3,2))\n",
      "x_train = x_train/255.\n",
      "\n",
      "y_train = keras.utils.to_categorical(y_train, 10)"
     ],
     "language": "python",
     "metadata": {},
     "outputs": [],
     "prompt_number": 4
    },
    {
     "cell_type": "markdown",
     "metadata": {},
     "source": [
      "Example plot of one training file with its label"
     ]
    },
    {
     "cell_type": "code",
     "collapsed": false,
     "input": [
      "plt.imshow(x_train[67,:,:,:])\n",
      "print(y_train[20])"
     ],
     "language": "python",
     "metadata": {},
     "outputs": [
      {
       "output_type": "stream",
       "stream": "stdout",
       "text": [
        "[ 0.  0.  0.  1.  0.  0.  0.  0.  0.  0.]\n"
       ]
      },
      {
       "metadata": {},
       "output_type": "display_data",
       "png": "[encoded data removed]",
       "text": [
        "<matplotlib.figure.Figure at 0x7f676e8d5290>"
       ]
      }
     ],
     "prompt_number": 5
    },
    {
     "cell_type": "markdown",
     "metadata": {},
     "source": [
      "Load the test data in the same manner"
     ]
    },
    {
     "cell_type": "code",
     "collapsed": true,
     "input": [
      "test = unpickle(INPUTPATH + \"test\")\n",
      "\n",
      "x_test = test['data']\n",
      "y_test = np.array(test['labels'])\n",
      "\n",
      "x_test = np.reshape(x_test,(len(x_test),3,32,32))\n",
      "x_test = np.transpose(x_test,(0,3,1,2))\n",
      "x_test = np.transpose(x_test,(0,1,3,2))\n",
      "x_test = x_test/255.\n",
      "\n",
      "y_test = keras.utils.to_categorical(y_test, 10)"
     ],
     "language": "python",
     "metadata": {},
     "outputs": [],
     "prompt_number": 6
    },
    {
     "cell_type": "markdown",
     "metadata": {},
     "source": [
      "Preprocess input data"
     ]
    },
    {
     "cell_type": "code",
     "collapsed": false,
     "input": [
      "datagen = ImageDataGenerator(\n",
      "    featurewise_center=False,  # set input mean to 0 over the dataset\n",
      "    samplewise_center=False,  # set each sample mean to 0\n",
      "    featurewise_std_normalization=False,  # divide inputs by std of the dataset\n",
      "    samplewise_std_normalization=False,  # divide each input by its std\n",
      "    zca_whitening=False,  # apply ZCA whitening\n",
      "    rotation_range=0,  # randomly rotate images in the range (degrees, 0 to 180)\n",
      "    width_shift_range=0.,  # randomly shift images horizontally (fraction of total width)\n",
      "    height_shift_range=0.,  # randomly shift images vertically (fraction of total height)\n",
      "    horizontal_flip=False,  # randomly flip images\n",
      "    vertical_flip=True) # randomly flip images\n",
      "datagen.fit(x_train)"
     ],
     "language": "python",
     "metadata": {},
     "outputs": [],
     "prompt_number": 7
    },
    {
     "cell_type": "heading",
     "level": 1,
     "metadata": {},
     "source": [
      "Convolutional neural network"
     ]
    },
    {
     "cell_type": "code",
     "collapsed": true,
     "input": [
      "model = Sequential()\n",
      "\n",
      "model.add(Conv2D(32, (3, 3), activation='relu', input_shape=(32, 32, 3)))\n",
      "model.add(Conv2D(32, (3, 3), activation='relu'))\n",
      "#model.add(MaxPooling2D(pool_size=(2, 2)))\n",
      "model.add(Dropout(0.2))\n",
      "\n",
      "model.add(Conv2D(32, (3, 3), activation='relu'))\n",
      "model.add(Conv2D(32, (3, 3), activation='relu'))\n",
      "#model.add(MaxPooling2D(pool_size=(2, 2)))\n",
      "model.add(Dropout(0.3))\n",
      "\n",
      "model.add(Conv2D(32, (3, 3), activation='relu'))\n",
      "model.add(Conv2D(32, (3, 3), activation='relu'))\n",
      "model.add(MaxPooling2D(pool_size=(2, 2)))\n",
      "model.add(Dropout(0.3))\n",
      "\n",
      "model.add(Flatten())\n",
      "model.add(Dense(256, activation='relu'))\n",
      "model.add(Dropout(0.5))\n",
      "model.add(Dense(10, activation='softmax'))"
     ],
     "language": "python",
     "metadata": {},
     "outputs": []
    },
    {
     "cell_type": "code",
     "collapsed": false,
     "input": [
      "sgd = SGD(lr=0.01, decay=1e-6, momentum=0.9, nesterov=True)\n",
      "model.compile(loss='categorical_crossentropy', optimizer=sgd, metrics=['accuracy'])\n",
      "\n",
      "model.fit_generator(datagen.flow(x_train, y_train, batch_size=32), \n",
      "                    steps_per_epoch=x_train.shape[0] // 32,\n",
      "                    epochs=100,\n",
      "                    validation_data=(x_test,y_test))\n",
      "score = model.evaluate(x_test, y_test, batch_size=32)"
     ],
     "language": "python",
     "metadata": {},
     "outputs": []
    },
    {
     "cell_type": "code",
     "collapsed": false,
     "input": [
      "print score"
     ],
     "language": "python",
     "metadata": {},
     "outputs": []
    },
    {
     "cell_type": "code",
     "collapsed": false,
     "input": [
      "from keras.models import load_model\n",
      "model = load_model('CIFAR-10.h5')"
     ],
     "language": "python",
     "metadata": {},
     "outputs": [],
     "prompt_number": 13
    },
    {
     "cell_type": "code",
     "collapsed": false,
     "input": [
      "score = model.evaluate(x_test, y_test, batch_size=32)"
     ],
     "language": "python",
     "metadata": {},
     "outputs": [
      {
       "output_type": "stream",
       "stream": "stdout",
       "text": [
        " 9984/10000 [============================>.] - ETA: 0s"
       ]
      }
     ],
     "prompt_number": 14
    },
    {
     "cell_type": "code",
     "collapsed": false,
     "input": [
      "print score"
     ],
     "language": "python",
     "metadata": {},
     "outputs": [
      {
       "output_type": "stream",
       "stream": "stdout",
       "text": [
        "2.42139800854\n"
       ]
      }
     ],
     "prompt_number": 15
    },
    {
     "cell_type": "code",
     "collapsed": true,
     "input": [],
     "language": "python",
     "metadata": {},
     "outputs": [],
     "prompt_number": null
    }
   ],
   "metadata": {}
  }
 ]
}