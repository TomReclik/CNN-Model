{
 "metadata": {
  "kernelspec": {
   "display_name": "Python 2",
   "language": "python",
   "name": "python2"
  },
  "language_info": {
   "codemirror_mode": {
    "name": "ipython",
    "version": 2
   },
   "file_extension": ".py",
   "mimetype": "text/x-python",
   "name": "python",
   "nbconvert_exporter": "python",
   "pygments_lexer": "ipython2",
   "version": "2.7.13"
  },
  "name": "",
  "signature": "sha256:4fc58866d603faae0389db6177d456d6760b2f3828d0a14e324fe33798842917"
 },
 "nbformat": 3,
 "nbformat_minor": 0,
 "worksheets": [
  {
   "cells": [
    {
     "cell_type": "heading",
     "level": 1,
     "metadata": {},
     "source": [
      "Test Custom Layer"
     ]
    },
    {
     "cell_type": "code",
     "collapsed": true,
     "input": [
      "import keras as K\n",
      "import numpy as np\n",
      "from keras.models import Sequential\n",
      "from keras.layers import Dense\n",
      "from keras.engine.topology import Layer"
     ],
     "language": "python",
     "metadata": {},
     "outputs": [],
     "prompt_number": 24
    },
    {
     "cell_type": "code",
     "collapsed": false,
     "input": [
      "class MergeDif(Layer):\n",
      "\n",
      "    def __init__(self, output_dim, alpha_regularizer=None, \n",
      "                 alpha_initializer='uniform', **kwargs):\n",
      "        self.init = initializations.get(init)\n",
      "        self.output_dim = 1\n",
      "        super(MergeDif, self).__init__(**kwargs)\n",
      "\n",
      "    def build(self, input_shape):\n",
      "        # Create a trainable weight variable for this layer.\n",
      "        self.alpha_shape = input_shape[2]\n",
      "        self.alpha = self.init(self.alpha_shape, name='{}_alpha'.format(self.name))\n",
      "        super(MergeDif, self).build(input_shape)  # Be sure to call this somewhere!\n",
      "\n",
      "    def call(self, x):\n",
      "        print(x.shape)\n",
      "        print(self.alpha.shape)\n",
      "        diff = np.fabs(x[0][0]-x[0][1])\n",
      "        diff = np.dot(diff,self.alpha)\n",
      "        return diff\n",
      "\n",
      "    def compute_output_shape(self, input_shape):\n",
      "        return (input_shape[0], self.output_dim)\n"
     ],
     "language": "python",
     "metadata": {},
     "outputs": [],
     "prompt_number": 26
    },
    {
     "cell_type": "code",
     "collapsed": false,
     "input": [
      "model1 = Sequential()\n",
      "model1.add(Dense(5, input_shape=(3,), activation='linear', \n",
      "                kernel_initializer='ones', bias_initializer='zeros'))\n",
      "\n",
      "model1 = Sequential()\n",
      "model1.add(Dense(5, input_shape=(3,), activation='linear', \n",
      "                kernel_initializer='ones', bias_initializer='zeros'))"
     ],
     "language": "python",
     "metadata": {},
     "outputs": [],
     "prompt_number": 8
    },
    {
     "cell_type": "code",
     "collapsed": false,
     "input": [
      "\n",
      "I = np.zeros((1,3))\n",
      "I[0][0] = 1\n",
      "I[0][1] = 2\n",
      "I[0][2] = 3"
     ],
     "language": "python",
     "metadata": {},
     "outputs": [],
     "prompt_number": 16
    },
    {
     "cell_type": "code",
     "collapsed": false,
     "input": [
      "x = model.predict(I)"
     ],
     "language": "python",
     "metadata": {},
     "outputs": [],
     "prompt_number": 17
    },
    {
     "cell_type": "code",
     "collapsed": false,
     "input": [
      "print(x.shape)"
     ],
     "language": "python",
     "metadata": {},
     "outputs": [
      {
       "output_type": "stream",
       "stream": "stdout",
       "text": [
        "(1, 5)\n"
       ]
      }
     ],
     "prompt_number": 18
    },
    {
     "cell_type": "code",
     "collapsed": false,
     "input": [
      "print(type(x))"
     ],
     "language": "python",
     "metadata": {},
     "outputs": [
      {
       "output_type": "stream",
       "stream": "stdout",
       "text": [
        "<type 'numpy.ndarray'>\n"
       ]
      }
     ],
     "prompt_number": 19
    },
    {
     "cell_type": "code",
     "collapsed": false,
     "input": [
      "print x"
     ],
     "language": "python",
     "metadata": {},
     "outputs": [
      {
       "output_type": "stream",
       "stream": "stdout",
       "text": [
        "[[ 6.  6.  6.  6.  6.]]\n"
       ]
      }
     ],
     "prompt_number": 20
    },
    {
     "cell_type": "code",
     "collapsed": false,
     "input": [
      "class MergeDif(Layer):\n",
      "\n",
      "    def __init__(self, output_dim, W_regularizer=None, **kwargs):\n",
      "        self.output_dim = 1\n",
      "        super(MergeDif, self).__init__(**kwargs)\n",
      "\n",
      "    def build(self, input_shape):\n",
      "        # Create a trainable weight variable for this layer.\n",
      "\n",
      "        self.kernel = self.add_weight(name='kernel',\n",
      "                                      shape=(input_shape[1], self.output_dim),\n",
      "                                      initializer='uniform',\n",
      "                                      trainable=True)\n",
      "        super(MergeDif, self).build(input_shape)  # Be sure to call this somewhere!\n",
      "\n",
      "    def call(self, x):\n",
      "        diff = np.fabs(x[0]-x[1])\n",
      "        out =\n",
      "        return K.dot(x, self.kernel)\n",
      "\n",
      "    def compute_output_shape(self, input_shape):\n",
      "        return (input_shape[0], self.output_dim)\n"
     ],
     "language": "python",
     "metadata": {},
     "outputs": [
      {
       "ename": "SyntaxError",
       "evalue": "invalid syntax (<ipython-input-21-2f19817dadc3>, line 18)",
       "output_type": "pyerr",
       "traceback": [
        "\u001b[0;36m  File \u001b[0;32m\"<ipython-input-21-2f19817dadc3>\"\u001b[0;36m, line \u001b[0;32m18\u001b[0m\n\u001b[0;31m    out =\u001b[0m\n\u001b[0m         ^\u001b[0m\n\u001b[0;31mSyntaxError\u001b[0m\u001b[0;31m:\u001b[0m invalid syntax\n"
       ]
      }
     ],
     "prompt_number": 21
    },
    {
     "cell_type": "code",
     "collapsed": false,
     "input": [],
     "language": "python",
     "metadata": {},
     "outputs": []
    }
   ],
   "metadata": {}
  }
 ]
}