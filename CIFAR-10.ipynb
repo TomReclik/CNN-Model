{
 "cells": [
  {
   "cell_type": "markdown",
   "metadata": {},
   "source": [
    "# Simple convolutional neural network for the CIFAR-10 data set"
   ]
  },
  {
   "cell_type": "markdown",
   "metadata": {},
   "source": [
    "# Prepare data for the convolutional neural network\n",
    "Import libraries for the convolutional neural network"
   ]
  },
  {
   "cell_type": "code",
   "execution_count": 1,
   "metadata": {},
   "outputs": [
    {
     "name": "stderr",
     "output_type": "stream",
     "text": [
      "Using TensorFlow backend.\n"
     ]
    }
   ],
   "source": [
    "import keras\n",
    "from keras.models import Sequential\n",
    "from keras.layers import Dense, Dropout, Flatten, Activation\n",
    "from keras.layers import Conv2D, MaxPooling2D\n",
    "from keras.optimizers import SGD\n",
    "from keras.preprocessing.image import ImageDataGenerator"
   ]
  },
  {
   "cell_type": "markdown",
   "metadata": {},
   "source": [
    "Import libraries for display, auxilary functions, and the extraction of the CIFAR-10 data"
   ]
  },
  {
   "cell_type": "code",
   "execution_count": 2,
   "metadata": {
    "collapsed": true
   },
   "outputs": [],
   "source": [
    "%matplotlib inline\n",
    "import matplotlib.pyplot as plt\n",
    "import numpy as np\n",
    "import cPickle\n",
    "import os"
   ]
  },
  {
   "cell_type": "markdown",
   "metadata": {},
   "source": [
    "Function for the extraction of the CIFAR-10 data. The dictionary that is returned consists of:\n",
    "    - 'data':   10,000 x 3072 numpy array\n",
    "                Each row represents a picture with 3072 = 1024 x 3\n",
    "                correspond to the different color channels and 1024 is a\n",
    "                flattened 32 x 32 array\n",
    "    - 'labels': The 10,000 corresponding labels ranging between 0 .. 9"
   ]
  },
  {
   "cell_type": "code",
   "execution_count": 3,
   "metadata": {
    "collapsed": true
   },
   "outputs": [],
   "source": [
    "def unpickle(file):\n",
    "    with open(file, 'rb') as fo:\n",
    "        dict = cPickle.load(fo)\n",
    "    return dict"
   ]
  },
  {
   "cell_type": "markdown",
   "metadata": {},
   "source": [
    "Store the training data and its labels and reshape the data such that it is compatible with the neural network"
   ]
  },
  {
   "cell_type": "code",
   "execution_count": 4,
   "metadata": {
    "collapsed": true
   },
   "outputs": [],
   "source": [
    "INPUTPATH = os.getcwd() + \"/CIFAR-10/\"\n",
    "train = unpickle(INPUTPATH + \"data_batch_1\")\n",
    "\n",
    "x_train = train['data']\n",
    "y_train = np.array(train['labels'])\n",
    "\n",
    "x_train = np.reshape(x_train,(10000,3,32,32))\n",
    "x_train = np.transpose(x_train,(0,3,1,2))\n",
    "x_train = np.transpose(x_train,(0,1,3,2))\n",
    "x_train = x_train/255.\n",
    "\n",
    "y_train = keras.utils.to_categorical(y_train, 10)"
   ]
  },
  {
   "cell_type": "markdown",
   "metadata": {},
   "source": [
    "Example plot of one training file with its label"
   ]
  },
  {
   "cell_type": "code",
   "execution_count": 5,
   "metadata": {},
   "outputs": [
    {
     "name": "stdout",
     "output_type": "stream",
     "text": [
      "[ 0.  0.  0.  0.  1.  0.  0.  0.  0.  0.]\n"
     ]
    },
    {
     "data": {
      "image/png": "[encoded data removed]",
      "text/plain": [
       "<matplotlib.figure.Figure at 0x7fa70d1f55d0>"
      ]
     },
     "metadata": {},
     "output_type": "display_data"
    }
   ],
   "source": [
    "plt.imshow(x_train[20,:,:,:])\n",
    "print(y_train[20])"
   ]
  },
  {
   "cell_type": "markdown",
   "metadata": {},
   "source": [
    "Load the test data in the same manner"
   ]
  },
  {
   "cell_type": "code",
   "execution_count": 6,
   "metadata": {
    "collapsed": true
   },
   "outputs": [],
   "source": [
    "test = unpickle(INPUTPATH + \"test_batch\")\n",
    "\n",
    "x_test = test['data']\n",
    "y_test = np.array(test['labels'])\n",
    "\n",
    "x_test = np.reshape(x_test,(10000,3,32,32))\n",
    "x_test = np.transpose(x_test,(0,3,1,2))\n",
    "x_test = np.transpose(x_test,(0,1,3,2))\n",
    "x_test = x_test/255.\n",
    "\n",
    "y_test = keras.utils.to_categorical(y_test, 10)"
   ]
  },
  {
   "cell_type": "markdown",
   "metadata": {},
   "source": [
    "# Convolutional neural network"
   ]
  },
  {
   "cell_type": "code",
   "execution_count": 7,
   "metadata": {
    "collapsed": true
   },
   "outputs": [],
   "source": [
    "model = Sequential()\n",
    "\n",
    "model.add(Conv2D(32, (3, 3), activation='relu', input_shape=(32, 32, 3)))\n",
    "model.add(MaxPooling2D(pool_size=(2, 2)))\n",
    "model.add(Dropout(0.25))\n",
    "\n",
    "model.add(Flatten())\n",
    "model.add(Dense(1024, activation='relu'))\n",
    "model.add(Dropout(0.5))\n",
    "model.add(Dense(10, activation='softmax'))"
   ]
  },
  {
   "cell_type": "code",
   "execution_count": 8,
   "metadata": {},
   "outputs": [
    {
     "name": "stdout",
     "output_type": "stream",
     "text": [
      "Epoch 1/100\n",
      "10000/10000 [==============================] - 29s - loss: 1.9742    \n",
      "Epoch 2/100\n",
      "10000/10000 [==============================] - 27s - loss: 1.6201    \n",
      "Epoch 3/100\n",
      "10000/10000 [==============================] - 26s - loss: 1.4472    \n",
      "Epoch 4/100\n",
      "10000/10000 [==============================] - 27s - loss: 1.3343    \n",
      "Epoch 5/100\n",
      "10000/10000 [==============================] - 26s - loss: 1.2453    \n",
      "Epoch 6/100\n",
      "10000/10000 [==============================] - 27s - loss: 1.1523    \n",
      "Epoch 7/100\n",
      "10000/10000 [==============================] - 25s - loss: 1.0660    \n",
      "Epoch 8/100\n",
      "10000/10000 [==============================] - 25s - loss: 0.9760    \n",
      "Epoch 9/100\n",
      "10000/10000 [==============================] - 25s - loss: 0.8995    \n",
      "Epoch 10/100\n",
      "10000/10000 [==============================] - 25s - loss: 0.8126    \n",
      "Epoch 11/100\n",
      "10000/10000 [==============================] - 25s - loss: 0.7489    \n",
      "Epoch 12/100\n",
      "10000/10000 [==============================] - 25s - loss: 0.6606    \n",
      "Epoch 13/100\n",
      "10000/10000 [==============================] - 25s - loss: 0.6049    \n",
      "Epoch 14/100\n",
      "10000/10000 [==============================] - 25s - loss: 0.5325    \n",
      "Epoch 15/100\n",
      "10000/10000 [==============================] - 25s - loss: 0.4883    \n",
      "Epoch 16/100\n",
      "10000/10000 [==============================] - 25s - loss: 0.4467    \n",
      "Epoch 17/100\n",
      "10000/10000 [==============================] - 25s - loss: 0.4238    \n",
      "Epoch 18/100\n",
      "10000/10000 [==============================] - 25s - loss: 0.3686    \n",
      "Epoch 19/100\n",
      "10000/10000 [==============================] - 25s - loss: 0.3403    \n",
      "Epoch 20/100\n",
      "10000/10000 [==============================] - 25s - loss: 0.3213    \n",
      "Epoch 21/100\n",
      "10000/10000 [==============================] - 25s - loss: 0.2899    \n",
      "Epoch 22/100\n",
      "10000/10000 [==============================] - 25s - loss: 0.2918    \n",
      "Epoch 23/100\n",
      "10000/10000 [==============================] - 25s - loss: 0.2554    \n",
      "Epoch 24/100\n",
      "10000/10000 [==============================] - 25s - loss: 0.2443    \n",
      "Epoch 25/100\n",
      "10000/10000 [==============================] - 25s - loss: 0.2246    \n",
      "Epoch 26/100\n",
      "10000/10000 [==============================] - 25s - loss: 0.2120    \n",
      "Epoch 27/100\n",
      "10000/10000 [==============================] - 26s - loss: 0.2107    \n",
      "Epoch 28/100\n",
      "10000/10000 [==============================] - 30s - loss: 0.1915    \n",
      "Epoch 29/100\n",
      "10000/10000 [==============================] - 30s - loss: 0.1856    \n",
      "Epoch 30/100\n",
      "10000/10000 [==============================] - 30s - loss: 0.1757    \n",
      "Epoch 31/100\n",
      "10000/10000 [==============================] - 30s - loss: 0.1828    \n",
      "Epoch 32/100\n",
      "10000/10000 [==============================] - 31s - loss: 0.1592    \n",
      "Epoch 33/100\n",
      "10000/10000 [==============================] - 28s - loss: 0.1644    \n",
      "Epoch 34/100\n",
      "10000/10000 [==============================] - 28s - loss: 0.1543    - ETA:\n",
      "Epoch 35/100\n",
      "10000/10000 [==============================] - 28s - loss: 0.1465    \n",
      "Epoch 36/100\n",
      "10000/10000 [==============================] - 27s - loss: 0.1538    \n",
      "Epoch 37/100\n",
      "10000/10000 [==============================] - 28s - loss: 0.1396    \n",
      "Epoch 38/100\n",
      "10000/10000 [==============================] - 30s - loss: 0.1294    \n",
      "Epoch 39/100\n",
      "10000/10000 [==============================] - 32s - loss: 0.1355    \n",
      "Epoch 40/100\n",
      "10000/10000 [==============================] - 31s - loss: 0.1288    \n",
      "Epoch 41/100\n",
      "10000/10000 [==============================] - 31s - loss: 0.1169    \n",
      "Epoch 42/100\n",
      "10000/10000 [==============================] - 32s - loss: 0.1093    \n",
      "Epoch 43/100\n",
      "10000/10000 [==============================] - 31s - loss: 0.0998    \n",
      "Epoch 44/100\n",
      "10000/10000 [==============================] - 31s - loss: 0.1125    \n",
      "Epoch 45/100\n",
      "10000/10000 [==============================] - 32s - loss: 0.1026    \n",
      "Epoch 46/100\n",
      "10000/10000 [==============================] - 31s - loss: 0.1123    \n",
      "Epoch 47/100\n",
      "10000/10000 [==============================] - 31s - loss: 0.1051    - E\n",
      "Epoch 48/100\n",
      "10000/10000 [==============================] - 31s - loss: 0.0865    \n",
      "Epoch 49/100\n",
      "10000/10000 [==============================] - 31s - loss: 0.0969    \n",
      "Epoch 50/100\n",
      "10000/10000 [==============================] - 31s - loss: 0.0962    \n",
      "Epoch 51/100\n",
      "10000/10000 [==============================] - 31s - loss: 0.1002    \n",
      "Epoch 52/100\n",
      "10000/10000 [==============================] - 29s - loss: 0.0935    \n",
      "Epoch 53/100\n",
      "10000/10000 [==============================] - 28s - loss: 0.0961    \n",
      "Epoch 54/100\n",
      "10000/10000 [==============================] - 27s - loss: 0.0904    \n",
      "Epoch 55/100\n",
      "10000/10000 [==============================] - 30s - loss: 0.0736    \n",
      "Epoch 56/100\n",
      "10000/10000 [==============================] - 28s - loss: 0.0855    \n",
      "Epoch 57/100\n",
      "10000/10000 [==============================] - 29s - loss: 0.0723    \n",
      "Epoch 58/100\n",
      "10000/10000 [==============================] - 29s - loss: 0.0853    \n",
      "Epoch 59/100\n",
      "10000/10000 [==============================] - 29s - loss: 0.0744    \n",
      "Epoch 60/100\n",
      "10000/10000 [==============================] - 28s - loss: 0.0816    \n",
      "Epoch 61/100\n",
      "10000/10000 [==============================] - 29s - loss: 0.0759    \n",
      "Epoch 62/100\n",
      "10000/10000 [==============================] - 28s - loss: 0.0768    \n",
      "Epoch 63/100\n",
      "10000/10000 [==============================] - 28s - loss: 0.0860    \n",
      "Epoch 64/100\n",
      "10000/10000 [==============================] - 28s - loss: 0.0777    \n",
      "Epoch 65/100\n",
      "10000/10000 [==============================] - 28s - loss: 0.0724    \n",
      "Epoch 66/100\n",
      "10000/10000 [==============================] - 30s - loss: 0.0666    \n",
      "Epoch 67/100\n",
      "10000/10000 [==============================] - 29s - loss: 0.0652    \n",
      "Epoch 68/100\n",
      "10000/10000 [==============================] - 30s - loss: 0.0720    \n",
      "Epoch 69/100\n",
      "10000/10000 [==============================] - 30s - loss: 0.0645    \n",
      "Epoch 70/100\n",
      "10000/10000 [==============================] - 28s - loss: 0.0622    \n",
      "Epoch 71/100\n",
      "10000/10000 [==============================] - 28s - loss: 0.0666    \n",
      "Epoch 72/100\n",
      "10000/10000 [==============================] - 29s - loss: 0.0602    \n",
      "Epoch 73/100\n",
      "10000/10000 [==============================] - 28s - loss: 0.0732    \n",
      "Epoch 74/100\n",
      "10000/10000 [==============================] - 28s - loss: 0.0645    \n",
      "Epoch 75/100\n",
      "10000/10000 [==============================] - 28s - loss: 0.0631    \n",
      "Epoch 76/100\n",
      "10000/10000 [==============================] - 28s - loss: 0.0598    \n",
      "Epoch 77/100\n",
      "10000/10000 [==============================] - 28s - loss: 0.0479    \n",
      "Epoch 78/100\n",
      "10000/10000 [==============================] - 28s - loss: 0.0635    \n",
      "Epoch 79/100\n",
      "10000/10000 [==============================] - 28s - loss: 0.0665    \n",
      "Epoch 80/100\n",
      "10000/10000 [==============================] - 28s - loss: 0.0522    \n",
      "Epoch 81/100\n",
      "10000/10000 [==============================] - 28s - loss: 0.0418    \n",
      "Epoch 82/100\n",
      "10000/10000 [==============================] - 28s - loss: 0.0475    \n",
      "Epoch 83/100\n",
      "10000/10000 [==============================] - 28s - loss: 0.0628    \n",
      "Epoch 84/100\n",
      "10000/10000 [==============================] - 28s - loss: 0.0591    \n",
      "Epoch 85/100\n",
      "10000/10000 [==============================] - 29s - loss: 0.0560    \n",
      "Epoch 86/100\n",
      "10000/10000 [==============================] - 28s - loss: 0.0575    \n",
      "Epoch 87/100\n",
      "10000/10000 [==============================] - 28s - loss: 0.0570    \n",
      "Epoch 88/100\n",
      "10000/10000 [==============================] - 28s - loss: 0.0520    \n",
      "Epoch 89/100\n",
      "10000/10000 [==============================] - 28s - loss: 0.0597    \n",
      "Epoch 90/100\n",
      "10000/10000 [==============================] - 28s - loss: 0.0478    \n",
      "Epoch 91/100\n",
      "10000/10000 [==============================] - 28s - loss: 0.0460    \n",
      "Epoch 92/100\n",
      "10000/10000 [==============================] - 28s - loss: 0.0527    \n",
      "Epoch 93/100\n",
      "10000/10000 [==============================] - 28s - loss: 0.0550    \n",
      "Epoch 94/100\n",
      "10000/10000 [==============================] - 28s - loss: 0.0398    \n",
      "Epoch 95/100\n",
      "10000/10000 [==============================] - 28s - loss: 0.0408    \n",
      "Epoch 96/100\n",
      "10000/10000 [==============================] - 28s - loss: 0.0505    \n",
      "Epoch 97/100\n",
      "10000/10000 [==============================] - 28s - loss: 0.0474    \n",
      "Epoch 98/100\n",
      "10000/10000 [==============================] - 28s - loss: 0.0470    \n",
      "Epoch 99/100\n"
     ]
    },
    {
     "name": "stdout",
     "output_type": "stream",
     "text": [
      "10000/10000 [==============================] - 28s - loss: 0.0582    \n",
      "Epoch 100/100\n",
      "10000/10000 [==============================] - 27s - loss: 0.0547    \n",
      " 9952/10000 [============================>.] - ETA: 0s"
     ]
    }
   ],
   "source": [
    "sgd = SGD(lr=0.01, decay=1e-6, momentum=0.9, nesterov=True)\n",
    "model.compile(loss='categorical_crossentropy', optimizer=sgd)\n",
    "\n",
    "model.fit(x_train, y_train, batch_size=32, epochs=100)\n",
    "score = model.evaluate(x_test, y_test, batch_size=32)"
   ]
  },
  {
   "cell_type": "code",
   "execution_count": 11,
   "metadata": {},
   "outputs": [],
   "source": [
    "model.save('CIFAR-10.h5')"
   ]
  },
  {
   "cell_type": "code",
   "execution_count": null,
   "metadata": {
    "collapsed": true
   },
   "outputs": [],
   "source": []
  }
 ],
 "metadata": {
  "kernelspec": {
   "display_name": "Python 2",
   "language": "python",
   "name": "python2"
  },
  "language_info": {
   "codemirror_mode": {
    "name": "ipython",
    "version": 2
   },
   "file_extension": ".py",
   "mimetype": "text/x-python",
   "name": "python",
   "nbconvert_exporter": "python",
   "pygments_lexer": "ipython2",
   "version": "2.7.12"
  }
 },
 "nbformat": 4,
 "nbformat_minor": 2
}
