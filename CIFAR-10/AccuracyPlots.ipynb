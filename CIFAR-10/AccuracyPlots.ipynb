{
 "metadata": {
  "kernelspec": {
   "display_name": "Python 2",
   "language": "python",
   "name": "python2"
  },
  "language_info": {
   "codemirror_mode": {
    "name": "ipython",
    "version": 2
   },
   "file_extension": ".py",
   "mimetype": "text/x-python",
   "name": "python",
   "nbconvert_exporter": "python",
   "pygments_lexer": "ipython2",
   "version": "2.7.12"
  },
  "name": "",
  "signature": "sha256:c6887321498beef2c0ddbd7acc038677ad4835aa0f81b9f97ff76f214f6a4fbb"
 },
 "nbformat": 3,
 "nbformat_minor": 0,
 "worksheets": [
  {
   "cells": [
    {
     "cell_type": "code",
     "collapsed": true,
     "input": [
      "%matplotlib inline\n",
      "import matplotlib.pyplot as plt"
     ],
     "language": "python",
     "metadata": {},
     "outputs": [],
     "prompt_number": 2
    },
    {
     "cell_type": "code",
     "collapsed": false,
     "input": [
      "plt.xlim(4000, 26000)\n",
      "plt.ylim(0.65, 1)\n",
      "plt.xlabel(\"Trainingsize\")\n",
      "plt.ylabel(\"Accuracy\")\n",
      "plt.grid(True)\n",
      "\n",
      "x = range(5000,26000,5000)\n",
      " \n",
      "ac_Lenet = [0.674,0.728, 0.703, 0.717, 0.761]\n",
      "ac_EERACN = [0.65, 0.755, 0.736, 0.772, 0.743]\n",
      "ac_Graham = [0.722, 0.766, 0.796,0.815,0.835]\n",
      "\n",
      "plt.plot(x,ac_Lenet, 's', label = 'Lenet')\n",
      "plt.plot(x,ac_EERACN, '1', label = 'EERACN' )\n",
      "plt.plot(x,ac_Graham, '2', label = 'Graham')\n",
      "plt.legend(loc='upper right')\n",
      "\n",
      "plt.savefig('Accuracy.png')"
     ],
     "language": "python",
     "metadata": {},
     "outputs": [
      {
       "metadata": {},
       "output_type": "display_data",
       "png": "[encoded data removed]",
       "text": [
        "<matplotlib.figure.Figure at 0x7f8f5b8f0bd0>"
       ]
      }
     ],
     "prompt_number": 13
    },
    {
     "cell_type": "code",
     "collapsed": true,
     "input": [],
     "language": "python",
     "metadata": {},
     "outputs": [],
     "prompt_number": null
    },
    {
     "cell_type": "code",
     "collapsed": false,
     "input": [],
     "language": "python",
     "metadata": {},
     "outputs": []
    }
   ],
   "metadata": {}
  }
 ]
}